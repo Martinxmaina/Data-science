{
  "nbformat": 4,
  "nbformat_minor": 0,
  "metadata": {
    "colab": {
      "private_outputs": true,
      "provenance": [],
      "authorship_tag": "ABX9TyOj3FCNKYgYgPZLUXb5lkvE",
      "include_colab_link": true
    },
    "kernelspec": {
      "name": "python3",
      "display_name": "Python 3"
    },
    "language_info": {
      "name": "python"
    }
  },
  "cells": [
    {
      "cell_type": "markdown",
      "metadata": {
        "id": "view-in-github",
        "colab_type": "text"
      },
      "source": [
        "<a href=\"https://colab.research.google.com/github/Martinxmaina/Data-science/blob/main/Matplotlib.ipynb\" target=\"_parent\"><img src=\"https://colab.research.google.com/assets/colab-badge.svg\" alt=\"Open In Colab\"/></a>"
      ]
    },
    {
      "cell_type": "code",
      "execution_count": null,
      "metadata": {
        "id": "t0k7WA16fdgT"
      },
      "outputs": [],
      "source": [
        "pip install matplotlib"
      ]
    },
    {
      "cell_type": "code",
      "source": [
        "import matplotlib.pyplot as plt"
      ],
      "metadata": {
        "id": "pHZ65cMQgbCU"
      },
      "execution_count": null,
      "outputs": []
    },
    {
      "cell_type": "code",
      "source": [
        "import numpy as np"
      ],
      "metadata": {
        "id": "q_jNz3O4gvFK"
      },
      "execution_count": null,
      "outputs": []
    },
    {
      "cell_type": "code",
      "source": [
        "x = np.arange(0,10)"
      ],
      "metadata": {
        "id": "iKAQ6GsKhMYZ"
      },
      "execution_count": null,
      "outputs": []
    },
    {
      "cell_type": "code",
      "source": [
        "x"
      ],
      "metadata": {
        "id": "QAnt8-uxhWo-"
      },
      "execution_count": null,
      "outputs": []
    },
    {
      "cell_type": "code",
      "source": [
        "y = 2* x"
      ],
      "metadata": {
        "id": "z0ZCWghzhYTe"
      },
      "execution_count": null,
      "outputs": []
    },
    {
      "cell_type": "code",
      "source": [
        "y"
      ],
      "metadata": {
        "id": "BoF76InEiB1t"
      },
      "execution_count": null,
      "outputs": []
    },
    {
      "cell_type": "code",
      "source": [
        "plt.plot(x,y)\n",
        "plt.xlabel('x')\n",
        "plt.ylabel('y')\n",
        "plt.xlim(0,6)\n",
        "plt.ylim(0,12)\n",
        "plt.title('title')\n",
        "plt.show()"
      ],
      "metadata": {
        "id": "hZD3Au4CiC37"
      },
      "execution_count": null,
      "outputs": []
    },
    {
      "cell_type": "code",
      "source": [
        "plt.plot(x,y)\n",
        "plt.xlabel('x')\n",
        "plt.ylabel('y')\n",
        "plt.xlim(0,6)\n",
        "plt.ylim(0,12)\n",
        "plt.title('title')\n",
        "plt.savefig(\"first_fig.png\")"
      ],
      "metadata": {
        "id": "Eht6c2G-iMBH"
      },
      "execution_count": null,
      "outputs": []
    },
    {
      "cell_type": "code",
      "source": [
        "#figure plot"
      ],
      "metadata": {
        "id": "-brW6udjkPur"
      },
      "execution_count": null,
      "outputs": []
    },
    {
      "cell_type": "code",
      "source": [
        "a = np.linspace(0,10,11)\n",
        "a"
      ],
      "metadata": {
        "id": "xckeu8iPkxSn"
      },
      "execution_count": null,
      "outputs": []
    },
    {
      "cell_type": "code",
      "source": [
        "b = a**4\n",
        "b"
      ],
      "metadata": {
        "id": "hElRIaz3lfJc"
      },
      "execution_count": null,
      "outputs": []
    },
    {
      "cell_type": "code",
      "source": [
        "c= np.arange(0,10)\n",
        "d =c*4"
      ],
      "metadata": {
        "id": "ILOfSqhclm5n"
      },
      "execution_count": null,
      "outputs": []
    },
    {
      "cell_type": "code",
      "source": [
        "c"
      ],
      "metadata": {
        "id": "kDIJL4FMl0Z4"
      },
      "execution_count": null,
      "outputs": []
    },
    {
      "cell_type": "code",
      "source": [
        "d"
      ],
      "metadata": {
        "id": "bRBNPl-Vl1Kz"
      },
      "execution_count": null,
      "outputs": []
    },
    {
      "cell_type": "code",
      "source": [
        "fig = plt.figure()\n",
        "axes1= fig.add_axes([0,0,1,1])\n",
        "axes2= fig.add_axes([0.2,0.2,0.5,0.5])\n",
        "axes1.plot(a,b)\n",
        "axes2.plot(c,d)\n",
        "\n",
        "axes1.set_xlabel('Big x')\n",
        "axes1.set_ylabel('Big y')\n",
        "\n",
        "axes2.set_xlabel('Small x')\n",
        "axes2.set_ylabel('Small y')\n",
        "\n",
        "\n",
        "axes1.set_title('Big title')\n",
        "axes2.set_title('small title')"
      ],
      "metadata": {
        "id": "TGB4StTel1wK"
      },
      "execution_count": null,
      "outputs": []
    },
    {
      "cell_type": "code",
      "source": [
        "fig"
      ],
      "metadata": {
        "id": "fmFjjqSul6Zh"
      },
      "execution_count": null,
      "outputs": []
    },
    {
      "cell_type": "code",
      "source": [],
      "metadata": {
        "id": "jKbLI7csl9X3"
      },
      "execution_count": null,
      "outputs": []
    },
    {
      "cell_type": "code",
      "source": [],
      "metadata": {
        "id": "Ho6WdvPumMaa"
      },
      "execution_count": null,
      "outputs": []
    }
  ]
}