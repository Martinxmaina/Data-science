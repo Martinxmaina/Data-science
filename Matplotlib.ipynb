{
  "nbformat": 4,
  "nbformat_minor": 0,
  "metadata": {
    "colab": {
      "private_outputs": true,
      "provenance": [],
      "authorship_tag": "ABX9TyMZrxlg6GlDBjJZMoiyqH09",
      "include_colab_link": true
    },
    "kernelspec": {
      "name": "python3",
      "display_name": "Python 3"
    },
    "language_info": {
      "name": "python"
    }
  },
  "cells": [
    {
      "cell_type": "markdown",
      "metadata": {
        "id": "view-in-github",
        "colab_type": "text"
      },
      "source": [
        "<a href=\"https://colab.research.google.com/github/Martinxmaina/Data-science/blob/main/Matplotlib.ipynb\" target=\"_parent\"><img src=\"https://colab.research.google.com/assets/colab-badge.svg\" alt=\"Open In Colab\"/></a>"
      ]
    },
    {
      "cell_type": "code",
      "execution_count": null,
      "metadata": {
        "id": "t0k7WA16fdgT"
      },
      "outputs": [],
      "source": [
        "pip install matplotlib"
      ]
    },
    {
      "cell_type": "code",
      "source": [
        "import matplotlib.pyplot as plt"
      ],
      "metadata": {
        "id": "pHZ65cMQgbCU"
      },
      "execution_count": null,
      "outputs": []
    },
    {
      "cell_type": "code",
      "source": [
        "import numpy as np"
      ],
      "metadata": {
        "id": "q_jNz3O4gvFK"
      },
      "execution_count": null,
      "outputs": []
    },
    {
      "cell_type": "code",
      "source": [
        "x = np.arange(0,10)"
      ],
      "metadata": {
        "id": "iKAQ6GsKhMYZ"
      },
      "execution_count": null,
      "outputs": []
    },
    {
      "cell_type": "code",
      "source": [
        "x"
      ],
      "metadata": {
        "id": "QAnt8-uxhWo-"
      },
      "execution_count": null,
      "outputs": []
    },
    {
      "cell_type": "code",
      "source": [
        "y = 2* x"
      ],
      "metadata": {
        "id": "z0ZCWghzhYTe"
      },
      "execution_count": null,
      "outputs": []
    },
    {
      "cell_type": "code",
      "source": [
        "y"
      ],
      "metadata": {
        "id": "BoF76InEiB1t"
      },
      "execution_count": null,
      "outputs": []
    },
    {
      "cell_type": "code",
      "source": [
        "plt.plot(x,y)\n",
        "plt.xlabel('x')\n",
        "plt.ylabel('y')\n",
        "plt.xlim(0,6)\n",
        "plt.ylim(0,12)\n",
        "plt.title('title')\n",
        "plt.show()"
      ],
      "metadata": {
        "id": "hZD3Au4CiC37"
      },
      "execution_count": null,
      "outputs": []
    },
    {
      "cell_type": "code",
      "source": [
        "plt.plot(x,y)\n",
        "plt.xlabel('x')\n",
        "plt.ylabel('y')\n",
        "plt.xlim(0,6)\n",
        "plt.ylim(0,12)\n",
        "plt.title('title')\n",
        "plt.savefig(\"first_fig.png\")"
      ],
      "metadata": {
        "id": "Eht6c2G-iMBH"
      },
      "execution_count": null,
      "outputs": []
    },
    {
      "cell_type": "code",
      "source": [
        "#figure plot"
      ],
      "metadata": {
        "id": "-brW6udjkPur"
      },
      "execution_count": null,
      "outputs": []
    },
    {
      "cell_type": "code",
      "source": [
        "a = np.linspace(0,10,11)\n",
        "a"
      ],
      "metadata": {
        "id": "xckeu8iPkxSn"
      },
      "execution_count": null,
      "outputs": []
    },
    {
      "cell_type": "code",
      "source": [
        "b = a**4\n",
        "b"
      ],
      "metadata": {
        "id": "hElRIaz3lfJc"
      },
      "execution_count": null,
      "outputs": []
    },
    {
      "cell_type": "code",
      "source": [
        "c= np.arange(0,10)\n",
        "d =c*4"
      ],
      "metadata": {
        "id": "ILOfSqhclm5n"
      },
      "execution_count": null,
      "outputs": []
    },
    {
      "cell_type": "code",
      "source": [
        "c"
      ],
      "metadata": {
        "id": "kDIJL4FMl0Z4"
      },
      "execution_count": null,
      "outputs": []
    },
    {
      "cell_type": "code",
      "source": [
        "d"
      ],
      "metadata": {
        "id": "bRBNPl-Vl1Kz"
      },
      "execution_count": null,
      "outputs": []
    },
    {
      "cell_type": "code",
      "source": [
        "fig = plt.figure()\n",
        "axes1= fig.add_axes([0,0,1,1])\n",
        "axes2= fig.add_axes([0.2,0.2,0.5,0.5])\n",
        "axes1.plot(a,b)\n",
        "axes2.plot(c,d)\n",
        "\n",
        "axes1.set_xlabel('Big x')\n",
        "axes1.set_ylabel('Big y')\n",
        "\n",
        "axes2.set_xlabel('Small x')\n",
        "axes2.set_ylabel('Small y')\n",
        "\n",
        "\n",
        "axes1.set_title('Big title')\n",
        "axes2.set_title('small title')"
      ],
      "metadata": {
        "id": "TGB4StTel1wK"
      },
      "execution_count": null,
      "outputs": []
    },
    {
      "cell_type": "code",
      "source": [
        "fig"
      ],
      "metadata": {
        "id": "fmFjjqSul6Zh"
      },
      "execution_count": null,
      "outputs": []
    },
    {
      "cell_type": "code",
      "source": [
        "#subplots"
      ],
      "metadata": {
        "id": "jKbLI7csl9X3"
      },
      "execution_count": null,
      "outputs": []
    },
    {
      "cell_type": "code",
      "source": [
        "import matplotlib.pyplot as plt\n",
        "import numpy as np"
      ],
      "metadata": {
        "id": "Ho6WdvPumMaa"
      },
      "execution_count": null,
      "outputs": []
    },
    {
      "cell_type": "code",
      "source": [
        "a = np.linspace(0,10,11)\n",
        "b = a**4\n",
        "c= np.arange(0,10)\n",
        "d =c*4"
      ],
      "metadata": {
        "id": "O8Z3SaFAZ5yC"
      },
      "execution_count": null,
      "outputs": []
    },
    {
      "cell_type": "code",
      "source": [
        "a"
      ],
      "metadata": {
        "id": "xnmneqGwZ8uo"
      },
      "execution_count": null,
      "outputs": []
    },
    {
      "cell_type": "code",
      "source": [
        "b"
      ],
      "metadata": {
        "id": "mJim7TDIZ_rY"
      },
      "execution_count": null,
      "outputs": []
    },
    {
      "cell_type": "code",
      "source": [
        "c"
      ],
      "metadata": {
        "id": "mLZkWFKlaAVh"
      },
      "execution_count": null,
      "outputs": []
    },
    {
      "cell_type": "code",
      "source": [
        "d"
      ],
      "metadata": {
        "id": "OxXR9UW9aDLY"
      },
      "execution_count": null,
      "outputs": []
    },
    {
      "cell_type": "code",
      "source": [
        "fig, axes = plt.subplots()\n",
        "axes.plot(a,b)\n",
        "axes.set_xlabel('Big x')\n",
        "axes.set_ylabel('Big y')\n",
        "axes.set_title('Big title')"
      ],
      "metadata": {
        "id": "AQreqwgQaESH"
      },
      "execution_count": null,
      "outputs": []
    },
    {
      "cell_type": "code",
      "source": [
        "fig, axes = plt.subplots(nrows=1, ncols=2)"
      ],
      "metadata": {
        "id": "BdpbNvonaXGU"
      },
      "execution_count": null,
      "outputs": []
    },
    {
      "cell_type": "code",
      "source": [
        "axes"
      ],
      "metadata": {
        "id": "61OVNK_zbIIT"
      },
      "execution_count": null,
      "outputs": []
    },
    {
      "cell_type": "code",
      "source": [
        "axes.shape"
      ],
      "metadata": {
        "id": "JPVUOVDmbd9E"
      },
      "execution_count": null,
      "outputs": []
    },
    {
      "cell_type": "code",
      "source": [
        "fig, axes = plt.subplots(nrows=2, ncols=2)\n"
      ],
      "metadata": {
        "id": "fixlOPgIbiCD"
      },
      "execution_count": null,
      "outputs": []
    },
    {
      "cell_type": "code",
      "source": [
        "axes.shape"
      ],
      "metadata": {
        "id": "LQrk057Xbols"
      },
      "execution_count": null,
      "outputs": []
    },
    {
      "cell_type": "code",
      "source": [
        "figs, axes =plt.subplots(nrows=1, ncols=2)\n",
        "axes[0].plot(a,b)\n",
        "axes[1].plot(c,d)\n"
      ],
      "metadata": {
        "id": "9TS1uDlBbt28"
      },
      "execution_count": null,
      "outputs": []
    },
    {
      "cell_type": "code",
      "source": [
        "fig, axes = plt.subplots(nrows=2, ncols=2, dpi=200)\n",
        "axes[0][0].plot(a,b)\n",
        "axes[0][0].set_title('0,0 title')\n",
        "axes[0][0].set_xlabel('0,0 x')\n",
        "axes[0][0].set_ylabel('0,0 Big y')\n",
        "\n",
        "\n",
        "\n",
        "axes[1][1].plot(c,d)\n",
        "axes[0][1].plot(a,b)\n",
        "axes[1][0].plot(c,d)\n",
        "plt.tight_layout()\n",
        "fig.suptitle('Main title', fontsize=10)\n",
        "fig.subplots_adjust(wspace=0.3, hspace=0.3)\n",
        "fig.savefig('subplots.png')\n",
        "\n",
        "fig.set_figwidth(10)\n",
        "fig.set_figheight(10)"
      ],
      "metadata": {
        "id": "9W_zm1oIcQM8"
      },
      "execution_count": null,
      "outputs": []
    },
    {
      "cell_type": "code",
      "source": [
        "#styling\n"
      ],
      "metadata": {
        "id": "sBUgnb-PdMVf"
      },
      "execution_count": null,
      "outputs": []
    },
    {
      "cell_type": "code",
      "source": [
        "x = np.arange(0,10)\n",
        "y = 2*x"
      ],
      "metadata": {
        "id": "dx6eDIxFq2aj"
      },
      "execution_count": null,
      "outputs": []
    },
    {
      "cell_type": "code",
      "source": [
        "fig= plt.figure()\n",
        "ax = fig.add_axes([0,0,1,1])\n",
        "ax.plot(x,x**2,label= (\"x**2\") )\n",
        "ax.plot(x,x**3, label= (\"x**3\"))\n",
        "ax.legend(loc = 2)"
      ],
      "metadata": {
        "id": "VNOJMLKTrZXm"
      },
      "execution_count": null,
      "outputs": []
    },
    {
      "cell_type": "code",
      "source": [
        "fig= plt.figure()\n",
        "ax = fig.add_axes([0,0,1,1])\n",
        "ax.plot(x,x**2,label= (\"x**2\") )\n",
        "ax.plot(x,x**3, label= (\"x**3\"))\n",
        "ax.legend(loc= (1,1))\n"
      ],
      "metadata": {
        "id": "W_4OSgYGre93"
      },
      "execution_count": null,
      "outputs": []
    },
    {
      "cell_type": "code",
      "source": [
        "fig= plt.figure()\n",
        "ax = fig.add_axes([0,0,1,1],)\n",
        "ax.plot(x,x+2,color = \"#a85232\", lw= 5, linestyle = \"--\")\n",
        "ax.plot(x,x+3,ls=\"-.\" )\n",
        "ax.plot(x,x+1, )"
      ],
      "metadata": {
        "id": "-FnNYsgRtGJl"
      },
      "execution_count": null,
      "outputs": []
    },
    {
      "cell_type": "code",
      "source": [
        "fig, axes = plt.subplots(figsize=(12,6))\n",
        "line = axes.plot(x, x+1, color=\"red\", linewidth=1, marker = \"1\", ms=30)\n",
        "axes.plot(x,x+3,marker=\"s\")\n",
        "axes.plot(x,x+2, )\n"
      ],
      "metadata": {
        "id": "K9tdxjbJtoE0"
      },
      "execution_count": null,
      "outputs": []
    },
    {
      "cell_type": "code",
      "source": [
        "fig, axes = plt.subplots(figsize=(12,6))\n",
        "axes.plot(x, x+1, color=\"red\", linewidth=1, marker = \"1\", ms=30)\n",
        "axes.plot(x, x+3, ms = 20, marker=\"s\", markerfacecolor=\"red\", markeredgecolor=\"green\",\n",
        "          markeredgewidth=20)\n",
        "axes.plot(x, x+2)\n"
      ],
      "metadata": {
        "id": "ffhPawb_WsPK"
      },
      "execution_count": null,
      "outputs": []
    },
    {
      "cell_type": "code",
      "source": [],
      "metadata": {
        "id": "QEirPvdAbO7P"
      },
      "execution_count": null,
      "outputs": []
    }
  ]
}