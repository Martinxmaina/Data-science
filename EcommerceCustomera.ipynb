{
  "nbformat": 4,
  "nbformat_minor": 0,
  "metadata": {
    "colab": {
      "private_outputs": true,
      "provenance": [],
      "authorship_tag": "ABX9TyNPe5MPw87NWT7TXf17Ee+Q",
      "include_colab_link": true
    },
    "kernelspec": {
      "name": "python3",
      "display_name": "Python 3"
    },
    "language_info": {
      "name": "python"
    }
  },
  "cells": [
    {
      "cell_type": "markdown",
      "metadata": {
        "id": "view-in-github",
        "colab_type": "text"
      },
      "source": [
        "<a href=\"https://colab.research.google.com/github/Martinxmaina/Data-science/blob/main/EcommerceCustomera.ipynb\" target=\"_parent\"><img src=\"https://colab.research.google.com/assets/colab-badge.svg\" alt=\"Open In Colab\"/></a>"
      ]
    },
    {
      "cell_type": "code",
      "source": [
        "import numpy as np\n",
        "import pandas as pd\n",
        "import matplotlib.pyplot as plt\n",
        "import seaborn as sns\n",
        "import warnings\n",
        "warnings.filterwarnings('ignore')"
      ],
      "metadata": {
        "id": "NFtgFtcgFWef"
      },
      "execution_count": null,
      "outputs": []
    },
    {
      "cell_type": "code",
      "execution_count": null,
      "metadata": {
        "id": "Hmd6KA5L910R"
      },
      "outputs": [],
      "source": [
        "from google.colab import drive\n",
        "drive.mount('/content/drive')"
      ]
    },
    {
      "cell_type": "code",
      "source": [
        "Boston = pd.read_csv('/content/drive/MyDrive/Boston.csv')\n",
        "EcommerceCustomers = pd.read_csv('/content/drive/MyDrive/EcommerceCustomers.csv')\n"
      ],
      "metadata": {
        "id": "1ClUAjt6D83L"
      },
      "execution_count": null,
      "outputs": []
    },
    {
      "cell_type": "code",
      "source": [
        "EcommerceCustomers.head()"
      ],
      "metadata": {
        "id": "uyynPf7AFL1a"
      },
      "execution_count": null,
      "outputs": []
    },
    {
      "cell_type": "code",
      "source": [
        "EcommerceCustomers.info()"
      ],
      "metadata": {
        "id": "UTYo-yYvHDRC"
      },
      "execution_count": null,
      "outputs": []
    },
    {
      "cell_type": "code",
      "source": [
        "EcommerceCustomers.describe()"
      ],
      "metadata": {
        "id": "34n2u6pvHGwW"
      },
      "execution_count": null,
      "outputs": []
    },
    {
      "cell_type": "code",
      "source": [
        "sns.set_style('darkgrid')\n",
        "sns.pairplot(EcommerceCustomers)"
      ],
      "metadata": {
        "id": "zvNsnwHXHoK6"
      },
      "execution_count": null,
      "outputs": []
    },
    {
      "cell_type": "code",
      "source": [
        "sns.histplot(EcommerceCustomers['Yearly Amount Spent'], kde=True, bins=60),"
      ],
      "metadata": {
        "id": "RcrOiWDOUjb0"
      },
      "execution_count": null,
      "outputs": []
    },
    {
      "cell_type": "code",
      "source": [
        "numerical_features = EcommerceCustomers.select_dtypes(include=np.number)\n",
        "\n",
        "correlation_matrix = numerical_features.corr()\n"
      ],
      "metadata": {
        "id": "4gIr7q_AVi9u"
      },
      "execution_count": null,
      "outputs": []
    },
    {
      "cell_type": "code",
      "source": [
        "sns.heatmap(correlation_matrix, annot=True, cmap='coolwarm')"
      ],
      "metadata": {
        "id": "axtjFqP9WUtw"
      },
      "execution_count": null,
      "outputs": []
    },
    {
      "cell_type": "code",
      "source": [
        "EcommerceCustomers.columns"
      ],
      "metadata": {
        "id": "wzm6niBMWxPF"
      },
      "execution_count": null,
      "outputs": []
    },
    {
      "cell_type": "code",
      "source": [
        "EcommerceCustomers.drop('Email', axis=1, inplace=True)\n",
        "EcommerceCustomers.drop('Address', axis=1, inplace=True)\n",
        "EcommerceCustomers.drop('Avatar', axis=1, inplace=True)\n",
        "#"
      ],
      "metadata": {
        "id": "29fBgRQayNLM"
      },
      "execution_count": null,
      "outputs": []
    },
    {
      "cell_type": "code",
      "source": [
        "EcommerceCustomers.head()"
      ],
      "metadata": {
        "id": "xK2nVE5u6W4y"
      },
      "execution_count": null,
      "outputs": []
    },
    {
      "cell_type": "code",
      "source": [
        "EcommerceCustomers.columns"
      ],
      "metadata": {
        "id": "z2NTRSHT6Z8h"
      },
      "execution_count": null,
      "outputs": []
    },
    {
      "cell_type": "code",
      "source": [
        "X= EcommerceCustomers[['Avg. Session Length', 'Time on App', 'Time on Website',\n",
        "       'Length of Membership']]"
      ],
      "metadata": {
        "id": "Fq5ny4en6e9g"
      },
      "execution_count": null,
      "outputs": []
    },
    {
      "cell_type": "code",
      "source": [
        "y= EcommerceCustomers['Yearly Amount Spent']"
      ],
      "metadata": {
        "id": "8d3AJyV-62Um"
      },
      "execution_count": null,
      "outputs": []
    },
    {
      "cell_type": "code",
      "source": [
        "from sklearn.model_selection import train_test_split"
      ],
      "metadata": {
        "id": "-INJnQqI64SD"
      },
      "execution_count": null,
      "outputs": []
    },
    {
      "cell_type": "code",
      "source": [
        "X_train, X_test, y_train, y_test = train_test_split(X, y, test_size=0.3, random_state=101)"
      ],
      "metadata": {
        "id": "EMDDT1zb71F1"
      },
      "execution_count": null,
      "outputs": []
    },
    {
      "cell_type": "code",
      "source": [
        "from sklearn.linear_model import LinearRegression"
      ],
      "metadata": {
        "id": "oVfGsh1-76qR"
      },
      "execution_count": null,
      "outputs": []
    },
    {
      "cell_type": "code",
      "source": [
        "lm = LinearRegression()"
      ],
      "metadata": {
        "id": "OvkUJZH-_PGS"
      },
      "execution_count": null,
      "outputs": []
    },
    {
      "cell_type": "code",
      "source": [
        "lm.fit(X_train, y_train)"
      ],
      "metadata": {
        "id": "Sny59UQq_Txy"
      },
      "execution_count": null,
      "outputs": []
    },
    {
      "cell_type": "markdown",
      "source": [
        "Lets check on the intercept"
      ],
      "metadata": {
        "id": "S--_iuSY_jF_"
      }
    },
    {
      "cell_type": "code",
      "source": [
        "lm.intercept_"
      ],
      "metadata": {
        "id": "kBNEXBcJ_dba"
      },
      "execution_count": null,
      "outputs": []
    },
    {
      "cell_type": "code",
      "source": [
        "lm.coef_"
      ],
      "metadata": {
        "id": "TytqeLEY_qim"
      },
      "execution_count": null,
      "outputs": []
    },
    {
      "cell_type": "code",
      "source": [
        "coef_df = pd.DataFrame(lm.coef_, X.columns, columns=['Coefficient'])"
      ],
      "metadata": {
        "id": "TJEA_vfE_77c"
      },
      "execution_count": null,
      "outputs": []
    },
    {
      "cell_type": "code",
      "source": [
        "coef_df"
      ],
      "metadata": {
        "id": "NedoVEaVAmeC"
      },
      "execution_count": null,
      "outputs": []
    },
    {
      "cell_type": "code",
      "source": [],
      "metadata": {
        "id": "Ch2q4VKiAobL"
      },
      "execution_count": null,
      "outputs": []
    }
  ]
}