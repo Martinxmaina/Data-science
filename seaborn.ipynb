{
  "nbformat": 4,
  "nbformat_minor": 0,
  "metadata": {
    "colab": {
      "private_outputs": true,
      "provenance": [],
      "gpuType": "T4",
      "cell_execution_strategy": "setup",
      "authorship_tag": "ABX9TyMJhNGgmJzOOpiG8uvHxs4o",
      "include_colab_link": true
    },
    "kernelspec": {
      "name": "python3",
      "display_name": "Python 3"
    },
    "language_info": {
      "name": "python"
    }
  },
  "cells": [
    {
      "cell_type": "markdown",
      "metadata": {
        "id": "view-in-github",
        "colab_type": "text"
      },
      "source": [
        "<a href=\"https://colab.research.google.com/github/Martinxmaina/Data-science/blob/main/seaborn.ipynb\" target=\"_parent\"><img src=\"https://colab.research.google.com/assets/colab-badge.svg\" alt=\"Open In Colab\"/></a>"
      ]
    },
    {
      "cell_type": "code",
      "execution_count": null,
      "metadata": {
        "id": "mZtMaoTvI_dI"
      },
      "outputs": [],
      "source": [
        "import seaborn as sns\n",
        "%matplotlib inline"
      ]
    },
    {
      "cell_type": "code",
      "source": [
        "tips = sns.load_dataset(\"tips\")"
      ],
      "metadata": {
        "id": "yNPbMC7rfe1I"
      },
      "execution_count": null,
      "outputs": []
    },
    {
      "cell_type": "code",
      "source": [
        "tips"
      ],
      "metadata": {
        "id": "-l-Krdqkh4Mf"
      },
      "execution_count": null,
      "outputs": []
    },
    {
      "cell_type": "code",
      "source": [
        "sns.displot(tips[\"total_bill\"], kde=True)"
      ],
      "metadata": {
        "id": "8TnTYOK_ioN6"
      },
      "execution_count": null,
      "outputs": []
    },
    {
      "cell_type": "code",
      "source": [
        "sns.histplot(tips[\"total_bill\"], kde=True, bins = 15)"
      ],
      "metadata": {
        "id": "BUdFD3kdiz-f"
      },
      "execution_count": null,
      "outputs": []
    },
    {
      "cell_type": "code",
      "source": [
        "sns.jointplot(x=\"total_bill\", y=\"tip\", data=tips, kind=\"scatter\")"
      ],
      "metadata": {
        "id": "wGrGdgoxjACx"
      },
      "execution_count": null,
      "outputs": []
    },
    {
      "cell_type": "code",
      "source": [],
      "metadata": {
        "id": "BUzbaFobkURR"
      },
      "execution_count": null,
      "outputs": []
    },
    {
      "cell_type": "code",
      "source": [
        "sns.jointplot(x=\"total_bill\", y=\"tip\", data=tips, kind=\"hex\")"
      ],
      "metadata": {
        "id": "l8iwu_K_jxNv"
      },
      "execution_count": null,
      "outputs": []
    },
    {
      "cell_type": "code",
      "source": [
        "sns.jointplot(x=\"total_bill\", y=\"tip\", data=tips, kind=\"reg\")"
      ],
      "metadata": {
        "id": "xBkQcXbQkG88"
      },
      "execution_count": null,
      "outputs": []
    },
    {
      "cell_type": "code",
      "source": [
        "sns.pairplot(tips, hue=\"sex\", palette=\"rocket\")"
      ],
      "metadata": {
        "id": "Gtw78ifIkYXf"
      },
      "execution_count": null,
      "outputs": []
    },
    {
      "cell_type": "code",
      "source": [
        "sns.rugplot(tips[\"total_bill\"])\n",
        "sns.histplot(tips[\"total_bill\"], kde=True)"
      ],
      "metadata": {
        "id": "rlogcVfhkpQN"
      },
      "execution_count": null,
      "outputs": []
    },
    {
      "cell_type": "code",
      "source": [
        "#categorical plots"
      ],
      "metadata": {
        "id": "kKaJGqldmjrT"
      },
      "execution_count": null,
      "outputs": []
    },
    {
      "cell_type": "code",
      "source": [
        "import numpy as np\n",
        "\n",
        "sns.barplot(x=\"sex\", y=\"total_bill\", data=tips, estimator=np.std)"
      ],
      "metadata": {
        "id": "l0T43p-DcvOX"
      },
      "execution_count": null,
      "outputs": []
    },
    {
      "cell_type": "code",
      "source": [
        "sns.countplot(x=\"sex\", data=tips)"
      ],
      "metadata": {
        "id": "LL0ri00udWAg"
      },
      "execution_count": null,
      "outputs": []
    },
    {
      "cell_type": "code",
      "source": [
        "sns.boxplot(x=\"day\", y=\"tip\", data=tips, hue= \"sex\")"
      ],
      "metadata": {
        "id": "kavK9IUrdpIi"
      },
      "execution_count": null,
      "outputs": []
    },
    {
      "cell_type": "code",
      "source": [
        "sns.boxplot(x=\"day\", y=\"tip\", data=tips, palette=\"rainbow\")"
      ],
      "metadata": {
        "id": "SsnhUpZKd9sp"
      },
      "execution_count": null,
      "outputs": []
    },
    {
      "cell_type": "code",
      "source": [
        "sns.boxplot( data=tips, palette=\"rainbow\", orient=\"h\")"
      ],
      "metadata": {
        "id": "db353pP5e7lK"
      },
      "execution_count": null,
      "outputs": []
    },
    {
      "cell_type": "code",
      "source": [
        "sns.violinplot(x=\"day\", y=\"total_bill\", data=tips[tips[\"day\"]==\"Thur\"] )"
      ],
      "metadata": {
        "id": "IWpltifJfaN4"
      },
      "execution_count": null,
      "outputs": []
    },
    {
      "cell_type": "code",
      "source": [
        "sns.violinplot(x=\"day\", y=\"total_bill\", data=tips, hue=\"sex\", split=\"True\")"
      ],
      "metadata": {
        "id": "KpT4mwb4fyR0"
      },
      "execution_count": null,
      "outputs": []
    },
    {
      "cell_type": "code",
      "source": [
        "sns.stripplot(x=\"day\", y=\"total_bill\", data=tips, jitter=True, hue= \"sex\", dodge=\"True\")"
      ],
      "metadata": {
        "id": "pinSo8xbhIyD"
      },
      "execution_count": null,
      "outputs": []
    },
    {
      "cell_type": "code",
      "source": [
        "sns.swarmplot(x=\"day\", y=\"total_bill\", data=tips, hue= \"sex\", dodge=True)"
      ],
      "metadata": {
        "id": "rNYJcK07hkOr"
      },
      "execution_count": null,
      "outputs": []
    },
    {
      "cell_type": "code",
      "source": [
        "sns.violinplot(x=\"day\", y=\"total_bill\", data=tips, palette= \"rocket\")\n",
        "sns.swarmplot(x=\"day\", y=\"total_bill\", data=tips, color=\"black\", size=3)\n"
      ],
      "metadata": {
        "id": "Ft0RDoTJiFNV"
      },
      "execution_count": null,
      "outputs": []
    },
    {
      "cell_type": "code",
      "source": [
        "sns.catplot(x=\"day\", y=\"total_bill\", data=tips, kind=\"bar\")\n"
      ],
      "metadata": {
        "id": "3IDuhKSVkUuf"
      },
      "execution_count": null,
      "outputs": []
    },
    {
      "cell_type": "code",
      "source": [
        "#matrix plots"
      ],
      "metadata": {
        "id": "ekyC9AdgkjLz"
      },
      "execution_count": null,
      "outputs": []
    },
    {
      "cell_type": "code",
      "source": [
        "tips.head()"
      ],
      "metadata": {
        "id": "tGv8Zapvk6Sn"
      },
      "execution_count": null,
      "outputs": []
    },
    {
      "cell_type": "code",
      "source": [],
      "metadata": {
        "id": "_amzIdNZlkc6"
      },
      "execution_count": null,
      "outputs": []
    }
  ]
}