{
  "nbformat": 4,
  "nbformat_minor": 0,
  "metadata": {
    "colab": {
      "private_outputs": true,
      "provenance": [],
      "authorship_tag": "ABX9TyMk+43JNIgVh/+r41Yn7d9s",
      "include_colab_link": true
    },
    "kernelspec": {
      "name": "python3",
      "display_name": "Python 3"
    },
    "language_info": {
      "name": "python"
    }
  },
  "cells": [
    {
      "cell_type": "markdown",
      "metadata": {
        "id": "view-in-github",
        "colab_type": "text"
      },
      "source": [
        "<a href=\"https://colab.research.google.com/github/Martinxmaina/Data-science/blob/main/Pandas_Operations.ipynb\" target=\"_parent\"><img src=\"https://colab.research.google.com/assets/colab-badge.svg\" alt=\"Open In Colab\"/></a>"
      ]
    },
    {
      "cell_type": "code",
      "execution_count": null,
      "metadata": {
        "id": "2kOVkYagz-h8"
      },
      "outputs": [],
      "source": [
        "import pandas as pd"
      ]
    },
    {
      "cell_type": "code",
      "source": [
        "df = pd.DataFrame({\"col1\": [1,2,3,4], \"col2\":[444,555,666,444], \"col3\":[\"abc\", \"def\", \"ghi\",\"xyz\"]})"
      ],
      "metadata": {
        "id": "8gj9alRq0O8I"
      },
      "execution_count": null,
      "outputs": []
    },
    {
      "cell_type": "code",
      "source": [
        "df"
      ],
      "metadata": {
        "id": "dFVhvSs400u0"
      },
      "execution_count": null,
      "outputs": []
    },
    {
      "cell_type": "code",
      "source": [
        "len(df[\"col2\"].unique())"
      ],
      "metadata": {
        "id": "-b8D2ITN1JP1"
      },
      "execution_count": null,
      "outputs": []
    },
    {
      "cell_type": "code",
      "source": [
        "df[\"col2\"].nunique()"
      ],
      "metadata": {
        "id": "EfOu4JY1gHpC"
      },
      "execution_count": null,
      "outputs": []
    },
    {
      "cell_type": "code",
      "source": [
        "df[\"col2\"].value_counts()"
      ],
      "metadata": {
        "id": "l7bhbf0igm6v"
      },
      "execution_count": null,
      "outputs": []
    },
    {
      "cell_type": "code",
      "source": [
        "df[df[\"col1\"]>3]"
      ],
      "metadata": {
        "id": "xf1hgmJzg4MD"
      },
      "execution_count": null,
      "outputs": []
    },
    {
      "cell_type": "code",
      "source": [
        "newdf = df[(df[\"col1\"]>2) & (df[\"col2\"]==444)]\n"
      ],
      "metadata": {
        "id": "af_HzCP_hEqE"
      },
      "execution_count": null,
      "outputs": []
    },
    {
      "cell_type": "code",
      "source": [
        "newdf"
      ],
      "metadata": {
        "id": "VAp_E-Afidn3"
      },
      "execution_count": null,
      "outputs": []
    },
    {
      "cell_type": "code",
      "source": [
        "def times2(x):\n",
        "    return x*2"
      ],
      "metadata": {
        "id": "17fWMmWUi2Ej"
      },
      "execution_count": null,
      "outputs": []
    },
    {
      "cell_type": "code",
      "source": [
        "df[\"col2\"].apply(times2)"
      ],
      "metadata": {
        "id": "Qb7eQUwZi9H9"
      },
      "execution_count": null,
      "outputs": []
    },
    {
      "cell_type": "code",
      "source": [
        "df[\"col3\"].apply(len)"
      ],
      "metadata": {
        "id": "L27g3CiTjHrs"
      },
      "execution_count": null,
      "outputs": []
    },
    {
      "cell_type": "code",
      "source": [
        "df[\"col2\"].apply(lambda item: item*2)"
      ],
      "metadata": {
        "id": "xP5yC9WajYNM"
      },
      "execution_count": null,
      "outputs": []
    },
    {
      "cell_type": "code",
      "source": [
        "df[\"col4\"]= df[\"col2\"].apply(lambda item: item*2)"
      ],
      "metadata": {
        "id": "EFuU2pdxjpyq"
      },
      "execution_count": null,
      "outputs": []
    },
    {
      "cell_type": "code",
      "source": [
        "df[\"col4\"]"
      ],
      "metadata": {
        "id": "AXBFlVmjj998"
      },
      "execution_count": null,
      "outputs": []
    },
    {
      "cell_type": "code",
      "source": [
        "df.columns"
      ],
      "metadata": {
        "id": "KBfTInRUkGgR"
      },
      "execution_count": null,
      "outputs": []
    },
    {
      "cell_type": "code",
      "source": [
        "df.drop(\"4\", axis=1)"
      ],
      "metadata": {
        "id": "8bHRScORkJfF"
      },
      "execution_count": null,
      "outputs": []
    },
    {
      "cell_type": "code",
      "source": [
        "df.index"
      ],
      "metadata": {
        "id": "FQG9JvSkkQqU"
      },
      "execution_count": null,
      "outputs": []
    },
    {
      "cell_type": "code",
      "source": [
        "df.sort_values(\"col2\")"
      ],
      "metadata": {
        "id": "KfgJN9e7raWF"
      },
      "execution_count": null,
      "outputs": []
    },
    {
      "cell_type": "code",
      "source": [
        "df.sort_values(by=\"col4\")"
      ],
      "metadata": {
        "id": "lVk4Uo7ardtX"
      },
      "execution_count": null,
      "outputs": []
    },
    {
      "cell_type": "code",
      "source": [
        "df.isnull()"
      ],
      "metadata": {
        "id": "D39SrdFWro-l"
      },
      "execution_count": null,
      "outputs": []
    },
    {
      "cell_type": "code",
      "source": [
        "data = {'County':['Nairobi','Nairobi','Nairobi','Nakuru','Nakuru','Kericho', 'Kisumu'],\n",
        "     'Fruits':['Oranges','Apples','Grapes','Oranges','Bananas','Grapes', 'Apples'],\n",
        "       'Ripe':[11,32,23,54,45,16,47],\n",
        "       'Raw':[10,30,20,50,40,10, 40],\n",
        "        'Spoilt': [10,30,20,50,40,10,40]}\n",
        "\n",
        "df = pd.DataFrame(data)"
      ],
      "metadata": {
        "id": "1Id3NY11r31J"
      },
      "execution_count": null,
      "outputs": []
    },
    {
      "cell_type": "code",
      "source": [
        "df"
      ],
      "metadata": {
        "id": "jlya9rw_thp4"
      },
      "execution_count": null,
      "outputs": []
    },
    {
      "cell_type": "code",
      "source": [
        "df.pivot_table(values=\"Ripe\" , index=[\"County\"], columns=[\"Fruits\"])"
      ],
      "metadata": {
        "id": "nGVGjqUptkbg"
      },
      "execution_count": null,
      "outputs": []
    },
    {
      "cell_type": "code",
      "source": [
        "df.pivot_table(values=\"Ripe\" , index=[\"County\"], columns=[\"Fruits\"]). fillna(0)"
      ],
      "metadata": {
        "id": "MKBmHs3AuCIb"
      },
      "execution_count": null,
      "outputs": []
    },
    {
      "cell_type": "code",
      "source": [],
      "metadata": {
        "id": "q3o_K9rDvUdV"
      },
      "execution_count": null,
      "outputs": []
    },
    {
      "cell_type": "code",
      "source": [
        "df.pivot_table(values=\"Spoilt\" , index=[\"County\"], columns=[\"Fruits\"]).fillna(0)"
      ],
      "metadata": {
        "id": "3wtFav8RuOun"
      },
      "execution_count": null,
      "outputs": []
    },
    {
      "cell_type": "code",
      "source": [],
      "metadata": {
        "id": "ms1dL8ukvjX5"
      },
      "execution_count": null,
      "outputs": []
    }
  ]
}