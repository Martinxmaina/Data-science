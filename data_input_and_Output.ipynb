{
  "nbformat": 4,
  "nbformat_minor": 0,
  "metadata": {
    "colab": {
      "private_outputs": true,
      "provenance": [],
      "authorship_tag": "ABX9TyOb2OMqg4+QlT2pOt+8pheP",
      "include_colab_link": true
    },
    "kernelspec": {
      "name": "python3",
      "display_name": "Python 3"
    },
    "language_info": {
      "name": "python"
    }
  },
  "cells": [
    {
      "cell_type": "markdown",
      "metadata": {
        "id": "view-in-github",
        "colab_type": "text"
      },
      "source": [
        "<a href=\"https://colab.research.google.com/github/Martinxmaina/Data-science/blob/main/data_input_and_Output.ipynb\" target=\"_parent\"><img src=\"https://colab.research.google.com/assets/colab-badge.svg\" alt=\"Open In Colab\"/></a>"
      ]
    },
    {
      "cell_type": "code",
      "execution_count": null,
      "metadata": {
        "id": "8nxJSWlwwyKu"
      },
      "outputs": [],
      "source": [
        "pip install sqlalchemy"
      ]
    },
    {
      "cell_type": "code",
      "source": [
        "pip install html5lib"
      ],
      "metadata": {
        "id": "FWbbDGqiw3dy"
      },
      "execution_count": null,
      "outputs": []
    },
    {
      "cell_type": "code",
      "source": [
        "pip install BeautifulSoup4"
      ],
      "metadata": {
        "id": "oepHUdo5xBww"
      },
      "execution_count": null,
      "outputs": []
    },
    {
      "cell_type": "code",
      "source": [
        "pip install lxml"
      ],
      "metadata": {
        "id": "Tr5xcfNAxI_r"
      },
      "execution_count": null,
      "outputs": []
    },
    {
      "cell_type": "code",
      "source": [
        "import pandas as pd"
      ],
      "metadata": {
        "id": "TYo9ZtbTxMPp"
      },
      "execution_count": null,
      "outputs": []
    },
    {
      "cell_type": "code",
      "source": [
        "import numpy as np"
      ],
      "metadata": {
        "id": "Rxvgddbyxqdn"
      },
      "execution_count": null,
      "outputs": []
    },
    {
      "cell_type": "code",
      "source": [
        "df =pd.read_csv(\"CSV_Sample-221111-131803.csv\")"
      ],
      "metadata": {
        "id": "8Ly0R2oyxsq2"
      },
      "execution_count": null,
      "outputs": []
    },
    {
      "source": [
        "from google.colab import drive\n",
        ""
      ],
      "cell_type": "code",
      "metadata": {
        "id": "6qnLRZI2z3Yz"
      },
      "execution_count": null,
      "outputs": []
    },
    {
      "cell_type": "code",
      "source": [
        "drive.mount('/content/drive')"
      ],
      "metadata": {
        "id": "egAIuK7tzsM5"
      },
      "execution_count": null,
      "outputs": []
    },
    {
      "cell_type": "code",
      "source": [],
      "metadata": {
        "id": "jknYqBnh0Bn9"
      },
      "execution_count": null,
      "outputs": []
    },
    {
      "source": [
        "file_path = '/content/drive/My Drive/CSV_Sample-221111-131803.csv'  # Replace with the actual path"
      ],
      "cell_type": "code",
      "metadata": {
        "id": "5sbGfR5C0NeV"
      },
      "execution_count": null,
      "outputs": []
    },
    {
      "cell_type": "code",
      "source": [],
      "metadata": {
        "id": "YAQAV2oC0bgX"
      },
      "execution_count": null,
      "outputs": []
    },
    {
      "source": [
        "df = pd.read_csv(file_path)"
      ],
      "cell_type": "code",
      "metadata": {
        "id": "F2DCZ71V0TIB"
      },
      "execution_count": null,
      "outputs": []
    },
    {
      "cell_type": "code",
      "source": [
        "df"
      ],
      "metadata": {
        "id": "bGSnQMR_0TeJ"
      },
      "execution_count": null,
      "outputs": []
    },
    {
      "cell_type": "code",
      "source": [
        "df[\"e\"] = df[\"a\"].apply(lambda elements: elements**2)"
      ],
      "metadata": {
        "id": "7qJzLpiq1NRH"
      },
      "execution_count": null,
      "outputs": []
    },
    {
      "cell_type": "code",
      "source": [
        "df"
      ],
      "metadata": {
        "id": "RbkMUYW11kSJ"
      },
      "execution_count": null,
      "outputs": []
    },
    {
      "cell_type": "code",
      "source": [
        "df.to_csv(\"output.csv\", index=False)"
      ],
      "metadata": {
        "id": "iHKr3k5s1ml9"
      },
      "execution_count": null,
      "outputs": []
    },
    {
      "source": [
        "from google.colab import files\n",
        "\n",
        ""
      ],
      "cell_type": "code",
      "metadata": {
        "id": "h0VDQPJW5Sk4"
      },
      "execution_count": null,
      "outputs": []
    },
    {
      "source": [
        "files.download('output.csv')"
      ],
      "cell_type": "code",
      "metadata": {
        "id": "C9Vdf43d59j_"
      },
      "execution_count": null,
      "outputs": []
    },
    {
      "cell_type": "code",
      "source": [
        "ls\n"
      ],
      "metadata": {
        "id": "vfrwbYP41-b4"
      },
      "execution_count": null,
      "outputs": []
    },
    {
      "cell_type": "code",
      "source": [
        "from google.colab import drive\n"
      ],
      "metadata": {
        "id": "1_YpM4Ny2xra"
      },
      "execution_count": null,
      "outputs": []
    },
    {
      "cell_type": "code",
      "source": [
        "drive.mount('/content/drive')"
      ],
      "metadata": {
        "id": "iChj7WKk7PwH"
      },
      "execution_count": null,
      "outputs": []
    },
    {
      "cell_type": "code",
      "source": [
        "file_path = '/content/drive/My Drive/Excel_Sample.xlsx'"
      ],
      "metadata": {
        "id": "an5hFHQD7UWJ"
      },
      "execution_count": null,
      "outputs": []
    },
    {
      "cell_type": "code",
      "source": [
        "df2 = pd.read_excel((file_path), sheet_name='Sheet1')"
      ],
      "metadata": {
        "id": "SymkkN6D7nS1"
      },
      "execution_count": null,
      "outputs": []
    },
    {
      "cell_type": "code",
      "source": [
        "df2"
      ],
      "metadata": {
        "id": "9oMz6G397ywy"
      },
      "execution_count": null,
      "outputs": []
    },
    {
      "cell_type": "code",
      "source": [
        "df2.to_excel(\"output2.xlsx\",sheet_name=\"output_sheet\", index=False)"
      ],
      "metadata": {
        "id": "DnAMB8-C8wMK"
      },
      "execution_count": null,
      "outputs": []
    },
    {
      "cell_type": "code",
      "source": [
        "files.download('output2.xlsx')"
      ],
      "metadata": {
        "id": "0Eai044h888_"
      },
      "execution_count": null,
      "outputs": []
    },
    {
      "cell_type": "code",
      "source": [
        "df3 = pd.read_html('https://en.wikipedia.org/wiki/List_of_FIFA_World_Cup_finals#:~:text=With%20five%20titles%2C%20Brazil%20is,and%20Spain%20have%20one%20each.')"
      ],
      "metadata": {
        "id": "EQ_9CrzR9CPN"
      },
      "execution_count": null,
      "outputs": []
    },
    {
      "cell_type": "code",
      "source": [
        "df3[3]"
      ],
      "metadata": {
        "id": "5NALLT1cAAf3"
      },
      "execution_count": null,
      "outputs": []
    },
    {
      "cell_type": "code",
      "source": [
        "wrld_cup= df3[3]"
      ],
      "metadata": {
        "id": "qLSM3JlnAE5J"
      },
      "execution_count": null,
      "outputs": []
    },
    {
      "cell_type": "code",
      "source": [],
      "metadata": {
        "id": "ZTpvCG-2BH0H"
      },
      "execution_count": null,
      "outputs": []
    },
    {
      "cell_type": "code",
      "source": [
        "wrld_cup = wrld_cup.iloc[:21]\n"
      ],
      "metadata": {
        "id": "wC_4wwPuBytB"
      },
      "execution_count": null,
      "outputs": []
    },
    {
      "cell_type": "code",
      "source": [
        "wrld_cup.tail(3)"
      ],
      "metadata": {
        "id": "XKbMNrO_CVOw"
      },
      "execution_count": null,
      "outputs": []
    },
    {
      "cell_type": "code",
      "source": [
        "wrld_cup.info"
      ],
      "metadata": {
        "id": "qczHmOOPCcx8"
      },
      "execution_count": null,
      "outputs": []
    },
    {
      "source": [
        "wrld_cup['Year'] = pd.to_numeric(wrld_cup['Year'], errors='coerce').astype(int)"
      ],
      "cell_type": "code",
      "metadata": {
        "id": "HeWLyDpnGNEi"
      },
      "execution_count": null,
      "outputs": []
    },
    {
      "cell_type": "code",
      "source": [
        "wrld_cup[wrld_cup['Year'] >= int(1930)]"
      ],
      "metadata": {
        "id": "7T1kBmoBFcwr"
      },
      "execution_count": null,
      "outputs": []
    },
    {
      "cell_type": "code",
      "source": [
        "wrld_cup[\"Score[2]\"].apply(lambda score: \"a.e.t\" in score)"
      ],
      "metadata": {
        "id": "I2sP5ZNlGckX"
      },
      "execution_count": null,
      "outputs": []
    },
    {
      "source": [
        "wrld_cup"
      ],
      "cell_type": "code",
      "metadata": {
        "id": "uEhqhIpnTMFT"
      },
      "execution_count": null,
      "outputs": []
    },
    {
      "cell_type": "code",
      "source": [
        "wrld_cup.drop('scor2', axis=1 , inplace=True)"
      ],
      "metadata": {
        "id": "EqvDBgbdSo9k"
      },
      "execution_count": null,
      "outputs": []
    },
    {
      "cell_type": "code",
      "source": [
        "from sqlalchemy import create_engine"
      ],
      "metadata": {
        "id": "jF0NGu6uTloM"
      },
      "execution_count": null,
      "outputs": []
    },
    {
      "cell_type": "code",
      "source": [
        "engine = create_engine('sqlite:///:memory:')"
      ],
      "metadata": {
        "id": "adfbWy3IU_PR"
      },
      "execution_count": null,
      "outputs": []
    },
    {
      "cell_type": "code",
      "source": [
        "df.to_sql('data', engine)"
      ],
      "metadata": {
        "id": "fOdaawiKVEYX"
      },
      "execution_count": null,
      "outputs": []
    },
    {
      "cell_type": "code",
      "source": [
        "sql_df = pd.read_sql('data', con=engine)"
      ],
      "metadata": {
        "id": "dQLiNmObVLAJ"
      },
      "execution_count": null,
      "outputs": []
    },
    {
      "cell_type": "code",
      "source": [
        "sql_df"
      ],
      "metadata": {
        "id": "aJI7NlisVTNz"
      },
      "execution_count": null,
      "outputs": []
    },
    {
      "cell_type": "code",
      "source": [],
      "metadata": {
        "id": "1F0f3_kQVVBW"
      },
      "execution_count": null,
      "outputs": []
    }
  ]
}