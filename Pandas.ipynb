{
  "nbformat": 4,
  "nbformat_minor": 0,
  "metadata": {
    "colab": {
      "private_outputs": true,
      "provenance": [],
      "authorship_tag": "ABX9TyOeqFM8AdbgbN1kg+rh2lZI",
      "include_colab_link": true
    },
    "kernelspec": {
      "name": "python3",
      "display_name": "Python 3"
    },
    "language_info": {
      "name": "python"
    }
  },
  "cells": [
    {
      "cell_type": "markdown",
      "metadata": {
        "id": "view-in-github",
        "colab_type": "text"
      },
      "source": [
        "<a href=\"https://colab.research.google.com/github/Martinxmaina/Data-science/blob/main/Pandas.ipynb\" target=\"_parent\"><img src=\"https://colab.research.google.com/assets/colab-badge.svg\" alt=\"Open In Colab\"/></a>"
      ]
    },
    {
      "cell_type": "code",
      "execution_count": null,
      "metadata": {
        "id": "ojZVod7PhXWq"
      },
      "outputs": [],
      "source": [
        "import pandas as pd"
      ]
    },
    {
      "cell_type": "code",
      "source": [
        "import numpy as np\n"
      ],
      "metadata": {
        "id": "aezaFSyXhsmJ"
      },
      "execution_count": null,
      "outputs": []
    },
    {
      "cell_type": "code",
      "source": [
        "help(pd.Series)"
      ],
      "metadata": {
        "id": "XBPFEBmThxti"
      },
      "execution_count": null,
      "outputs": []
    },
    {
      "cell_type": "code",
      "source": [
        "myindex=['USA','Canada','Mexico']"
      ],
      "metadata": {
        "id": "Gcd2MhfCxJB7"
      },
      "execution_count": null,
      "outputs": []
    },
    {
      "cell_type": "code",
      "source": [
        "mydata = [1776, 1867, 1821]"
      ],
      "metadata": {
        "id": "4LMFdBI6xb6V"
      },
      "execution_count": null,
      "outputs": []
    },
    {
      "cell_type": "code",
      "source": [
        "myseries = pd.Series(data=mydata)"
      ],
      "metadata": {
        "id": "1OdxtTLDxlRl"
      },
      "execution_count": null,
      "outputs": []
    },
    {
      "cell_type": "code",
      "source": [
        "myseries\n",
        "\n"
      ],
      "metadata": {
        "id": "0OKKTtycxqOn"
      },
      "execution_count": null,
      "outputs": []
    },
    {
      "cell_type": "code",
      "source": [
        "myseries = pd.Series(data=mydata, index=myindex)"
      ],
      "metadata": {
        "id": "7NzdWDwlxsox"
      },
      "execution_count": null,
      "outputs": []
    },
    {
      "cell_type": "code",
      "source": [
        "myseries\n"
      ],
      "metadata": {
        "id": "RISEDxLOx75z"
      },
      "execution_count": null,
      "outputs": []
    },
    {
      "cell_type": "code",
      "source": [
        "ages = {'Sam':5, 'Frank':10, 'Spike':7}\n",
        "pd.Series(ages)"
      ],
      "metadata": {
        "id": "pyk67znkyAlo"
      },
      "execution_count": null,
      "outputs": []
    },
    {
      "cell_type": "code",
      "source": [
        "q1 = {'Japan': 80, 'China': 450, 'India': 200, 'USA': 250}\n",
        "q2 = {'Brazil': 100,'China': 500, 'India': 210,'USA': 260}"
      ],
      "metadata": {
        "id": "b1cHp1w9yabJ"
      },
      "execution_count": null,
      "outputs": []
    },
    {
      "cell_type": "code",
      "source": [
        "pd.Series(q1)"
      ],
      "metadata": {
        "id": "eUqEufZkymlk"
      },
      "execution_count": null,
      "outputs": []
    },
    {
      "cell_type": "code",
      "source": [
        "sales_q1 = pd.Series(q1)\n",
        "sales_q2 = pd.Series(q2)"
      ],
      "metadata": {
        "id": "6jzhpWs4ywEt"
      },
      "execution_count": null,
      "outputs": []
    },
    {
      "cell_type": "code",
      "source": [
        "sales_q1[\"Japan\"]"
      ],
      "metadata": {
        "id": "PFgiODRszHPF"
      },
      "execution_count": null,
      "outputs": []
    },
    {
      "cell_type": "code",
      "source": [
        "sales_q1.keys()"
      ],
      "metadata": {
        "id": "reqU0GKkzUe8"
      },
      "execution_count": null,
      "outputs": []
    },
    {
      "cell_type": "code",
      "source": [
        "sales_q1 + sales_q2"
      ],
      "metadata": {
        "id": "sdmFz_kOz4dH"
      },
      "execution_count": null,
      "outputs": []
    },
    {
      "cell_type": "code",
      "source": [
        "sales_q1.add(sales_q2, fill_value=0)"
      ],
      "metadata": {
        "id": "rH_h450Y1lby"
      },
      "execution_count": null,
      "outputs": []
    },
    {
      "cell_type": "code",
      "source": [
        "#data frames"
      ],
      "metadata": {
        "id": "eHohSAVW1yVn"
      },
      "execution_count": null,
      "outputs": []
    },
    {
      "cell_type": "code",
      "source": [
        "np.random.seed(99)\n",
        "mydata = np.random.randint(0,101,(4,3))\n",
        "\n",
        "my_data"
      ],
      "metadata": {
        "id": "cDKciUbC9OMf"
      },
      "execution_count": null,
      "outputs": []
    },
    {
      "cell_type": "code",
      "source": [
        "my_index = ['CA', 'NY', 'AZ', 'TX']\n",
        "my_columns = ['Jan', 'Feb', 'Mar']"
      ],
      "metadata": {
        "id": "TXWIETk49nLE"
      },
      "execution_count": null,
      "outputs": []
    },
    {
      "cell_type": "code",
      "source": [
        "df = pd.DataFrame(data=my_data, index = my_index, columns=my_columns)"
      ],
      "metadata": {
        "id": "CbQw-HLC-FSa"
      },
      "execution_count": null,
      "outputs": []
    },
    {
      "cell_type": "code",
      "source": [
        "df"
      ],
      "metadata": {
        "id": "B5samErk-NHV"
      },
      "execution_count": null,
      "outputs": []
    },
    {
      "cell_type": "code",
      "source": [
        "from google.colab import drive\n",
        "drive.mount('/tips-221111-131706.csv')"
      ],
      "metadata": {
        "id": "IXGtTB-e-uAo"
      },
      "execution_count": null,
      "outputs": []
    },
    {
      "cell_type": "markdown",
      "source": [],
      "metadata": {
        "id": "lUZf0CS0Mipm"
      }
    },
    {
      "cell_type": "code",
      "source": [
        "drive.mount('/content/drive')\n",
        "\n"
      ],
      "metadata": {
        "id": "T2rURI2ZAUIk"
      },
      "execution_count": null,
      "outputs": []
    },
    {
      "cell_type": "code",
      "source": [
        "df = pd.read('/content/drive/MyDrive/tips-221111-131706.csv')\n",
        "\n"
      ],
      "metadata": {
        "id": "tv4H7kChLkym"
      },
      "execution_count": null,
      "outputs": []
    },
    {
      "cell_type": "code",
      "source": [
        "import pandas as pd # import pandas and assign it to the alias 'pd'\n"
      ],
      "metadata": {
        "id": "yvtIgJdKM0fw"
      },
      "execution_count": null,
      "outputs": []
    },
    {
      "cell_type": "code",
      "source": [
        "drive.mount('/content/drive') # Mount Google Drive\n"
      ],
      "metadata": {
        "id": "jcfq-1y6NHzb"
      },
      "execution_count": null,
      "outputs": []
    },
    {
      "cell_type": "code",
      "source": [
        "df = pd.read_csv('/content/drive/MyDrive/tips-221111-131706.csv') # Use pd.read_csv to read a csv file\n"
      ],
      "metadata": {
        "id": "BOVDbqKrNKEO"
      },
      "execution_count": null,
      "outputs": []
    },
    {
      "cell_type": "code",
      "source": [
        "df"
      ],
      "metadata": {
        "id": "BJkXPnTINMgv"
      },
      "execution_count": null,
      "outputs": []
    },
    {
      "cell_type": "code",
      "source": [
        "import numpy as np"
      ],
      "metadata": {
        "id": "JXFntDblNTJk"
      },
      "execution_count": null,
      "outputs": []
    },
    {
      "cell_type": "code",
      "source": [
        "df"
      ],
      "metadata": {
        "id": "IS70liXgSpMm"
      },
      "execution_count": null,
      "outputs": []
    },
    {
      "cell_type": "code",
      "source": [
        "df.columns"
      ],
      "metadata": {
        "id": "EMAMW9zbS9E_"
      },
      "execution_count": null,
      "outputs": []
    },
    {
      "cell_type": "code",
      "source": [
        "df.index"
      ],
      "metadata": {
        "id": "lCzUPd2nTAbI"
      },
      "execution_count": null,
      "outputs": []
    },
    {
      "cell_type": "code",
      "source": [
        "df.head(2)"
      ],
      "metadata": {
        "id": "XqIrTI8fTMZG"
      },
      "execution_count": null,
      "outputs": []
    },
    {
      "cell_type": "code",
      "source": [
        "df.info"
      ],
      "metadata": {
        "id": "-FN2g6jnTdpw"
      },
      "execution_count": null,
      "outputs": []
    },
    {
      "cell_type": "code",
      "source": [
        "len(df)"
      ],
      "metadata": {
        "id": "ye6d58ugTjjJ"
      },
      "execution_count": null,
      "outputs": []
    },
    {
      "cell_type": "code",
      "source": [
        "df.dribeesc"
      ],
      "metadata": {
        "id": "saooZXakTwjS"
      },
      "execution_count": null,
      "outputs": []
    },
    {
      "cell_type": "code",
      "source": [
        "df.describe().transpose()"
      ],
      "metadata": {
        "id": "QkjO3tKVTzAe"
      },
      "execution_count": null,
      "outputs": []
    },
    {
      "cell_type": "code",
      "source": [
        "df.head()"
      ],
      "metadata": {
        "id": "9G3nSnGuT1TO"
      },
      "execution_count": null,
      "outputs": []
    },
    {
      "cell_type": "code",
      "source": [
        "df.info()\n"
      ],
      "metadata": {
        "id": "8lhYAdoXUh0p"
      },
      "execution_count": null,
      "outputs": []
    },
    {
      "cell_type": "code",
      "source": [
        "len(df)"
      ],
      "metadata": {
        "id": "bGj4ZOgCUoFs"
      },
      "execution_count": null,
      "outputs": []
    },
    {
      "cell_type": "code",
      "source": [
        "df.describe()"
      ],
      "metadata": {
        "id": "rAGFqo3OU60q"
      },
      "execution_count": null,
      "outputs": []
    },
    {
      "cell_type": "code",
      "source": [
        "df.describe().transpose()"
      ],
      "metadata": {
        "id": "G2abnJKTPLu9"
      },
      "execution_count": null,
      "outputs": []
    },
    {
      "cell_type": "code",
      "source": [
        "df.head()"
      ],
      "metadata": {
        "id": "biN9hWVhPLpX"
      },
      "execution_count": null,
      "outputs": []
    },
    {
      "cell_type": "code",
      "source": [
        "df['total_bill']"
      ],
      "metadata": {
        "id": "jtS3vWImPLhI"
      },
      "execution_count": null,
      "outputs": []
    },
    {
      "cell_type": "code",
      "source": [
        "type(df['total_bill'])"
      ],
      "metadata": {
        "id": "rMdAWbMjVFDe"
      },
      "execution_count": null,
      "outputs": []
    },
    {
      "cell_type": "markdown",
      "source": [],
      "metadata": {
        "id": "Z-ZKplClWDZG"
      }
    },
    {
      "cell_type": "code",
      "source": [
        "mycols = ['total_bill', 'tip']\n"
      ],
      "metadata": {
        "id": "B5b7f9gSVws8"
      },
      "execution_count": null,
      "outputs": []
    },
    {
      "cell_type": "code",
      "source": [
        "df[mycols]"
      ],
      "metadata": {
        "id": "Kxp5-YH1V9_0"
      },
      "execution_count": null,
      "outputs": []
    },
    {
      "cell_type": "code",
      "source": [
        "df['total_bill'] + df['tip']"
      ],
      "metadata": {
        "id": "ocS0-CpwXEXT"
      },
      "execution_count": null,
      "outputs": []
    },
    {
      "cell_type": "code",
      "source": [
        "df['tip'] / df['total_bill']"
      ],
      "metadata": {
        "id": "BwGhwdtGfO6a"
      },
      "execution_count": null,
      "outputs": []
    },
    {
      "cell_type": "code",
      "source": [
        "df['tip_percentage'] = df['tip'] / df['total_bill']*100"
      ],
      "metadata": {
        "id": "-lCqUBHlRLuq"
      },
      "execution_count": null,
      "outputs": []
    },
    {
      "cell_type": "code",
      "source": [
        "df.head()"
      ],
      "metadata": {
        "id": "cVgMWzymRfx_"
      },
      "execution_count": null,
      "outputs": []
    },
    {
      "cell_type": "code",
      "source": [
        "df['price_per_person'] = df['total_bill'] / df['size']"
      ],
      "metadata": {
        "id": "f1zENeUwRkgR"
      },
      "execution_count": null,
      "outputs": []
    },
    {
      "cell_type": "code",
      "source": [
        "df.head()"
      ],
      "metadata": {
        "id": "ip74vG91R3Td"
      },
      "execution_count": null,
      "outputs": []
    },
    {
      "cell_type": "code",
      "source": [
        "df['price_per_person'] = np.round(df['total_bill'] / df['size'],2)"
      ],
      "metadata": {
        "id": "s3k6K8z5R4bG"
      },
      "execution_count": null,
      "outputs": []
    },
    {
      "cell_type": "code",
      "source": [
        "df.head()"
      ],
      "metadata": {
        "id": "nFKtpAc-Scm_"
      },
      "execution_count": null,
      "outputs": []
    },
    {
      "cell_type": "code",
      "source": [
        "df.drop('tip_percentage', axis=1)"
      ],
      "metadata": {
        "id": "zaRABRKJSgKi"
      },
      "execution_count": null,
      "outputs": []
    },
    {
      "cell_type": "code",
      "source": [
        "df"
      ],
      "metadata": {
        "id": "7UGT_5nPS0-J"
      },
      "execution_count": null,
      "outputs": []
    },
    {
      "cell_type": "code",
      "source": [
        "df.shape"
      ],
      "metadata": {
        "id": "dICCkifFS574"
      },
      "execution_count": null,
      "outputs": []
    },
    {
      "cell_type": "code",
      "source": [
        "df.head()"
      ],
      "metadata": {
        "id": "cJY9I1SnTUjs"
      },
      "execution_count": null,
      "outputs": []
    },
    {
      "cell_type": "code",
      "source": [
        "df = df.drop('tip_percentage', axis=1)"
      ],
      "metadata": {
        "id": "jBB2eLr9ToCO"
      },
      "execution_count": null,
      "outputs": []
    },
    {
      "cell_type": "code",
      "source": [
        "df"
      ],
      "metadata": {
        "id": "W-dxp_7dTu30"
      },
      "execution_count": null,
      "outputs": []
    },
    {
      "cell_type": "code",
      "source": [
        "df.index"
      ],
      "metadata": {
        "id": "V3qgnWaiTwTu"
      },
      "execution_count": null,
      "outputs": []
    },
    {
      "cell_type": "code",
      "source": [
        "df=df.set_index('Payment ID')"
      ],
      "metadata": {
        "id": "FqrVuBxwTzkP"
      },
      "execution_count": null,
      "outputs": []
    },
    {
      "cell_type": "code",
      "source": [
        "df.head()"
      ],
      "metadata": {
        "id": "X91L4HL0T3Gd"
      },
      "execution_count": null,
      "outputs": []
    },
    {
      "cell_type": "code",
      "source": [
        "df.reset_index()"
      ],
      "metadata": {
        "id": "MMsuQJ1GakZt"
      },
      "execution_count": null,
      "outputs": []
    },
    {
      "cell_type": "code",
      "source": [
        "df.head()"
      ],
      "metadata": {
        "id": "3vn_9qy3azIi"
      },
      "execution_count": null,
      "outputs": []
    },
    {
      "cell_type": "code",
      "source": [
        "df.iloc[Sun2959]"
      ],
      "metadata": {
        "id": "cL2zH4n2a_Sk"
      },
      "execution_count": null,
      "outputs": []
    },
    {
      "cell_type": "code",
      "source": [
        "df.loc['Sun2959']"
      ],
      "metadata": {
        "id": "7i41LbgGbyM1"
      },
      "execution_count": null,
      "outputs": []
    },
    {
      "cell_type": "code",
      "source": [
        "df.iloc[0:4]"
      ],
      "metadata": {
        "id": "IprMbmu6cRFh"
      },
      "execution_count": null,
      "outputs": []
    },
    {
      "cell_type": "code",
      "source": [
        "df.loc[['Sun2959', 'Sun5260']]"
      ],
      "metadata": {
        "id": "rXVi1sjhcdSD"
      },
      "execution_count": null,
      "outputs": []
    },
    {
      "cell_type": "code",
      "source": [
        "df.drop('Sun2959', axis=0)"
      ],
      "metadata": {
        "id": "xE3RFyPAckA3"
      },
      "execution_count": null,
      "outputs": []
    },
    {
      "cell_type": "code",
      "source": [
        "df.head()"
      ],
      "metadata": {
        "id": "BIKzvh2dcv8v"
      },
      "execution_count": null,
      "outputs": []
    },
    {
      "cell_type": "code",
      "source": [
        "one_row = df.loc['Sun4608']"
      ],
      "metadata": {
        "id": "_q0z1dQLc3FV"
      },
      "execution_count": null,
      "outputs": []
    },
    {
      "cell_type": "code",
      "source": [
        "one_row"
      ],
      "metadata": {
        "id": "6hzuvXOXdcX3"
      },
      "execution_count": null,
      "outputs": []
    },
    {
      "cell_type": "code",
      "source": [
        "type(one_row)"
      ],
      "metadata": {
        "id": "nrrSf4T8dlky"
      },
      "execution_count": null,
      "outputs": []
    },
    {
      "cell_type": "code",
      "source": [
        "df.append(one_row).tail()"
      ],
      "metadata": {
        "id": "L266VqsMdt_A"
      },
      "execution_count": null,
      "outputs": []
    },
    {
      "cell_type": "code",
      "source": [],
      "metadata": {
        "id": "4hExLyEFd5q-"
      },
      "execution_count": null,
      "outputs": []
    }
  ]
}